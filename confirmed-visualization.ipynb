{
 "cells": [
  {
   "cell_type": "markdown",
   "metadata": {},
   "source": [
    "### Imports"
   ]
  },
  {
   "cell_type": "code",
   "execution_count": null,
   "metadata": {},
   "outputs": [],
   "source": [
    "import pandas as pd\n",
    "import plotly.express as px\n",
    "import plotly.graph_objects as go\n",
    "import dash_core_components\n",
    "from datetime import date, timedelta\n",
    "\n",
    "import os"
   ]
  },
  {
   "cell_type": "markdown",
   "metadata": {},
   "source": [
    "### Load dataframe from newest file"
   ]
  },
  {
   "cell_type": "code",
   "execution_count": null,
   "metadata": {},
   "outputs": [],
   "source": [
    "for file in os.listdir('newest'):\n",
    "    if \"csv\" in file:\n",
    "        print(\"Loading \"+file+\" ...\")\n",
    "\n",
    "df_mx = pd.read_csv('./newest/'+file, encoding = \"ISO-8859-1\")\n",
    "print(file+\" Loaded\")"
   ]
  },
  {
   "cell_type": "markdown",
   "metadata": {},
   "source": [
    "### Confirmados Mexico por Fecha de Inicio de Sintomas"
   ]
  },
  {
   "cell_type": "code",
   "execution_count": null,
   "metadata": {},
   "outputs": [],
   "source": [
    "df = df_mx\n",
    "\n",
    "df = df.loc[df['RESULTADO_LAB'] == 1] # resultado = positivo SARS-COV-2\n",
    "\n",
    "df = df[['FECHA_SINTOMAS','RESULTADO_LAB']]\n",
    "\n",
    "df.loc[df['RESULTADO_LAB'] == 1, 'CONFIRMADO'] = ['1']\n",
    "\n",
    "df_by_date = df.groupby([\"FECHA_SINTOMAS\"],as_index=False).count()\n",
    "\n",
    "fig = px.bar(df_by_date, df_by_date.FECHA_SINTOMAS, df_by_date.CONFIRMADO, \n",
    "              title='Confirmados Mexico por Fecha de Inicio de Sintomas')\n",
    "fig.show()"
   ]
  },
  {
   "cell_type": "markdown",
   "metadata": {},
   "source": [
    "### Confirmados Mexico por Estado"
   ]
  },
  {
   "cell_type": "code",
   "execution_count": null,
   "metadata": {},
   "outputs": [],
   "source": [
    "di = {1:\"Aguascalientes\", 2: \"Baja California\", 3:\"Baja California Sur\",  4: \"Campeche\", 5: \"Coahuila\", 6: \"Colima\",\n",
    "     7: \"Chiapas\", 8: \"Chihuahua\", 9: \"CDMX\", 10: \"Durango\", 11: \"Guanajuato\", 12: \"Guerrero\", 13: \"Hidalgo\",\n",
    "     14: \"Jalisco\", 15: \"Mexico\", 16: \"Michoacan\", 17: \"Morelos\", 18: \"Nayarit\", 19: \"Nuevo Leon\", 20: \"Oaxaca\",\n",
    "     21: \"Puebla\", 22: \"Queretaro\", 23: \"Quintana Roo\", 24: \"San Luis Potosi\", 25: \"Sinaloa\", 26: \"Sonora\",\n",
    "     27: \"Tabasco\", 28: \"Tamaulipas\", 29: \"Tlaxcala\", 30: \"Veracruz\", 31: \"Yucatan\", 32: \"Zacatecas\"}\n",
    "\n",
    "df = df_mx\n",
    "\n",
    "df = df.loc[df['RESULTADO_LAB'] == 1] # resultado = positivo SARS-COV-2\n",
    "\n",
    "df = df.replace({\"ENTIDAD_RES\": di})\n",
    "\n",
    "df = df[['FECHA_SINTOMAS','RESULTADO_LAB','ENTIDAD_RES']]\n",
    "\n",
    "df.loc[df['RESULTADO_LAB'] == 1, 'CONFIRMADO'] = ['1']\n",
    "\n",
    "df_by_date = df.groupby([\"FECHA_SINTOMAS\",\"ENTIDAD_RES\"],as_index=False).count()\n",
    "\n",
    "fig = px.line(df_by_date, df_by_date.FECHA_SINTOMAS, df_by_date.CONFIRMADO, \n",
    "              title='Confirmados Mexico por Estado', line_group = \"ENTIDAD_RES\", \n",
    "              color=\"ENTIDAD_RES\")\n",
    "fig.show()"
   ]
  },
  {
   "cell_type": "markdown",
   "metadata": {},
   "source": [
    "### Confirmados BC por Fecha de Inicio de Sintomas"
   ]
  },
  {
   "cell_type": "markdown",
   "metadata": {},
   "source": [
    "### Confirmados BC por Municipio"
   ]
  },
  {
   "cell_type": "code",
   "execution_count": null,
   "metadata": {},
   "outputs": [],
   "source": [
    "di = {1:\"Ensenada\", 2: \"Mexicali\", 3:\"Tecate\",  4: \"Tijuana\", 5: \"Rosarito\"}\n",
    "\n",
    "df = df_mx\n",
    "\n",
    "df = df.loc[df['ENTIDAD_RES'] == 2] #entidad = Baja California\n",
    "\n",
    "df = df.loc[df['RESULTADO_LAB'] == 1] # resultado = positivo SARS-COV-2\n",
    "\n",
    "df = df.replace({\"MUNICIPIO_RES\": di})\n",
    "\n",
    "df = df[['FECHA_SINTOMAS','RESULTADO_LAB','MUNICIPIO_RES']]\n",
    "\n",
    "df.loc[df['RESULTADO_LAB'] == 1, 'CONFIRMADO'] = ['1']\n",
    "\n",
    "df_by_date = df.groupby([\"FECHA_SINTOMAS\",\"MUNICIPIO_RES\"],as_index=False).count()\n",
    "\n",
    "fig = px.line(df_by_date, df_by_date.FECHA_SINTOMAS, df_by_date.CONFIRMADO, \n",
    "              title='Confirmados en BC por Municipio', line_group = \"MUNICIPIO_RES\", \n",
    "              color=\"MUNICIPIO_RES\")\n",
    "fig.show()"
   ]
  },
  {
   "cell_type": "markdown",
   "metadata": {},
   "source": [
    "### Confirmados Mexicali por Fecha de Inicio de Sintomas"
   ]
  },
  {
   "cell_type": "code",
   "execution_count": null,
   "metadata": {},
   "outputs": [],
   "source": [
    "#confirmados\n",
    "df = df_mx\n",
    "\n",
    "df = df.loc[df['ENTIDAD_RES'] == 2] #entidad = Baja California\n",
    "\n",
    "df = df.loc[df['MUNICIPIO_RES'] == 2] # resultado = positivo SARS-COV-2\n",
    "\n",
    "df = df.loc[df['RESULTADO_LAB'] == 1] # resultado = positivo SARS-COV-2\n",
    "\n",
    "df = df[['FECHA_SINTOMAS','RESULTADO_LAB']]\n",
    "\n",
    "df.loc[df['RESULTADO_LAB'] == 1, 'CONFIRMADO'] = ['1']\n",
    "\n",
    "df_by_date = df.groupby([\"FECHA_SINTOMAS\"],as_index=False).count()\n",
    "\n",
    "fig = px.bar(df_by_date, df_by_date.FECHA_SINTOMAS, df_by_date.CONFIRMADO, \n",
    "              title='Confirmados Mexicali por Fecha de Inicio de Sintomas')\n",
    "fig.show()\n"
   ]
  },
  {
   "cell_type": "code",
   "execution_count": null,
   "metadata": {},
   "outputs": [],
   "source": []
  }
 ],
 "metadata": {
  "kernelspec": {
   "display_name": "Python 3",
   "language": "python",
   "name": "python3"
  },
  "language_info": {
   "codemirror_mode": {
    "name": "ipython",
    "version": 3
   },
   "file_extension": ".py",
   "mimetype": "text/x-python",
   "name": "python",
   "nbconvert_exporter": "python",
   "pygments_lexer": "ipython3",
   "version": "3.8.3"
  }
 },
 "nbformat": 4,
 "nbformat_minor": 4
}
