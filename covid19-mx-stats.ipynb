{
 "cells": [
  {
   "cell_type": "code",
   "execution_count": 1,
   "metadata": {},
   "outputs": [
    {
     "name": "stdout",
     "output_type": "stream",
     "text": [
      "Requirement already satisfied: beautifulsoup4 in /opt/conda/lib/python3.7/site-packages (4.8.2)\r\n",
      "Requirement already satisfied: soupsieve>=1.2 in /opt/conda/lib/python3.7/site-packages (from beautifulsoup4) (1.9.5)\r\n"
     ]
    }
   ],
   "source": [
    "#!pip install beautifulsoup4"
   ]
  },
  {
   "cell_type": "code",
   "execution_count": 24,
   "metadata": {},
   "outputs": [],
   "source": [
    "import requests\n",
    "import threading\n",
    "from bs4 import BeautifulSoup\n",
    "import os"
   ]
  },
  {
   "cell_type": "code",
   "execution_count": 37,
   "metadata": {},
   "outputs": [],
   "source": [
    "URL = 'https://www.gob.mx/salud/documentos/datos-abiertos-bases-historicas-direccion-general-de-epidemiologia'\n",
    "\n",
    "page = requests.get(URL).text # get the raw HTML of the page\n",
    "soup = BeautifulSoup(page) # make our page easy to navigate\n",
    "\n",
    "download_urls = []\n",
    "downloaded_files = []\n",
    "for a in soup.find_all('a',text='Ver'):\n",
    "    download_urls.append(a['href'])\n",
    "\n",
    "downloaded_files = os.listdir()\n",
    "\n",
    "# result = [a for a in A if a not in download_urls]\n",
    "    \n",
    "for file in download_urls: # for each index and file in download_urls\n",
    "    fileName = file.split('/')[-1] # the text after the last / is the file name we want\n",
    "    if fileName not in downloaded_files:\n",
    "        print(\"downloading \"+fileName)\n",
    "        fileRequest = requests.get(file) # download the file\n",
    "        with open(fileName, 'wb') as examFile: # open a new file in write and binary mode\n",
    "            examFile.write(fileRequest.content) # write the content of the downloaded file\n",
    "\n"
   ]
  },
  {
   "cell_type": "code",
   "execution_count": null,
   "metadata": {},
   "outputs": [],
   "source": []
  },
  {
   "cell_type": "code",
   "execution_count": null,
   "metadata": {},
   "outputs": [],
   "source": []
  }
 ],
 "metadata": {
  "kernelspec": {
   "display_name": "Python 3",
   "language": "python",
   "name": "python3"
  },
  "language_info": {
   "codemirror_mode": {
    "name": "ipython",
    "version": 3
   },
   "file_extension": ".py",
   "mimetype": "text/x-python",
   "name": "python",
   "nbconvert_exporter": "python",
   "pygments_lexer": "ipython3",
   "version": "3.7.6"
  }
 },
 "nbformat": 4,
 "nbformat_minor": 4
}
