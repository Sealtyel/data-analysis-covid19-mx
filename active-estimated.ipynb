{
 "cells": [
  {
   "cell_type": "markdown",
   "metadata": {},
   "source": [
    "## Imports"
   ]
  },
  {
   "cell_type": "code",
   "execution_count": null,
   "metadata": {},
   "outputs": [],
   "source": [
    "import pandas as pd\n",
    "import plotly.express as px\n",
    "import plotly.graph_objects as go\n",
    "from datetime import date, timedelta, datetime\n",
    "\n",
    "import os"
   ]
  },
  {
   "cell_type": "markdown",
   "metadata": {},
   "source": [
    "## Load dataframe from newest file"
   ]
  },
  {
   "cell_type": "code",
   "execution_count": null,
   "metadata": {},
   "outputs": [],
   "source": [
    "if not os.path.exists('newest'):\n",
    "    os.makedirs('newest')\n",
    "    \n",
    "for file in os.listdir('newest'):\n",
    "    if \"csv\" in file:\n",
    "        print(\"Loading \"+file+\" ...\")\n",
    "\n",
    "df_mx = pd.read_csv('./newest/'+file, encoding = \"ISO-8859-1\")\n",
    "print(file+\" Loaded\")"
   ]
  },
  {
   "cell_type": "markdown",
   "metadata": {},
   "source": [
    "## Positivity by Week"
   ]
  },
  {
   "cell_type": "code",
   "execution_count": null,
   "metadata": {},
   "outputs": [],
   "source": [
    "df = df_mx\n",
    "\n",
    "# df = df.loc[df['ENTIDAD_RES'] == 2] #entidad = Baja California\n",
    "# df = df.loc[df['MUNICIPIO_RES'] == 2] # municipio = mexicali\n",
    "\n",
    "df = df.loc[(df['RESULTADO_LAB'] == 1) | (df['RESULTADO_LAB'] == 2)| (df['RESULTADO_LAB'] == 3)]\n",
    "\n",
    "df = df[['FECHA_SINTOMAS','RESULTADO_LAB']]\n",
    "\n",
    "df['FECHA_SINTOMAS'] = pd.to_datetime(df['FECHA_SINTOMAS'])\n",
    "df['SEMANA'] = df['FECHA_SINTOMAS'].dt.week\n",
    "df['AÑO'] = df['FECHA_SINTOMAS'].dt.year\n",
    "\n",
    "df.loc[df['RESULTADO_LAB'] == 1, 'CONFIRMADO'] = ['1']\n",
    "df.loc[df['RESULTADO_LAB'] == 2, 'NEGATIVO'] = ['1']\n",
    "df.loc[df['RESULTADO_LAB'] == 3, 'SOSPECHOSO'] = ['1']\n",
    "\n",
    "df = df.groupby([\"SEMANA\",'AÑO'],as_index=False).count()\n",
    "\n",
    "df['POSITIVIDAD'] = (df['CONFIRMADO']/df['RESULTADO_LAB'])\n",
    "df['POSITIVIDAD_MAXIMA'] = ((df['CONFIRMADO']+df['SOSPECHOSO'])/df['RESULTADO_LAB'])\n",
    "df['POSITIVIDAD_MINIMA'] = (df['CONFIRMADO']/(df['RESULTADO_LAB']+df['SOSPECHOSO']))\n",
    "\n",
    "df_p = df.loc[df['SOSPECHOSO'] == 0] #remove weeks with cases with pending result\n",
    "df_p"
   ]
  },
  {
   "cell_type": "markdown",
   "metadata": {},
   "source": [
    "## Active Cases of Mexico"
   ]
  },
  {
   "cell_type": "code",
   "execution_count": null,
   "metadata": {},
   "outputs": [],
   "source": [
    "df = df_mx\n",
    "last_positivity = df_p[-1:]['POSITIVIDAD'].iloc[0]\n",
    "\n",
    "df = df.loc[(df['RESULTADO_LAB'] == 1) | (df['RESULTADO_LAB'] == 3)] # resultado = positivo SARS-COV-2 o Pendiente\n",
    "\n",
    "# df = df = df.loc[df['ENTIDAD_RES'] == 2] #entidad = Baja California\n",
    "\n",
    "# df = df.loc[df['MUNICIPIO_RES'] == 2] # municipio = mexicali\n",
    "\n",
    "df = df[['FECHA_SINTOMAS','RESULTADO_LAB']]\n",
    "\n",
    "df.loc[df['RESULTADO_LAB'] == 1, 'CONFIRMADO'] = ['1']\n",
    "df.loc[df['RESULTADO_LAB'] == 3, 'SOSPECHOSO'] = ['1']\n",
    "\n",
    "df[\"SOSPECHOSO\"] = pd.to_numeric(df[\"SOSPECHOSO\"])\n",
    "df[\"CONFIRMADO\"] = pd.to_numeric(df[\"CONFIRMADO\"])\n",
    "\n",
    "\n",
    "df['FECHA_SINTOMAS'] = pd.to_datetime(df['FECHA_SINTOMAS'])\n",
    "\n",
    "df_by_date = df.groupby(\"FECHA_SINTOMAS\",as_index=False).count()\n",
    "\n",
    "df_by_date['CONFIRMADOS_ESTIMADOS'] = df_by_date['CONFIRMADO'] + (df_by_date['SOSPECHOSO'] * last_positivity)\n",
    "\n",
    "df_by_date['CONFIRMADO'] = df_by_date['CONFIRMADO'] + df_by_date['CONFIRMADOS_ESTIMADOS']\n",
    "\n",
    "first_case_date = df_by_date['FECHA_SINTOMAS'].iloc[0]\n",
    "\n",
    "last_case_date = df_by_date['FECHA_SINTOMAS'].iloc[-1]\n",
    "\n",
    "delta = (last_case_date) - first_case_date       # as timedelta\n",
    "\n",
    "active_df = pd.DataFrame()\n",
    "\n",
    "for i in range(delta.days + 1):\n",
    "    day = first_case_date + timedelta(days=i)\n",
    "\n",
    "    df_by_date['FECHA'] = day\n",
    "    \n",
    "    active_date_minus_14_days = day - timedelta(days=11)\n",
    "    mask = (df_by_date['FECHA_SINTOMAS'] >= active_date_minus_14_days) & (df_by_date['FECHA_SINTOMAS'] <= day)\n",
    "    filtered_df=df_by_date.loc[mask]\n",
    "    \n",
    "    filtered_df = filtered_df.groupby([\"FECHA\"],as_index=False).sum()\n",
    "    active_df = active_df.append(filtered_df)\n",
    "\n",
    "fig = px.line(active_df, active_df.FECHA, active_df.CONFIRMADO,\n",
    "              title='Activos Mexico por Estado')\n",
    "fig.show()"
   ]
  },
  {
   "cell_type": "code",
   "execution_count": null,
   "metadata": {},
   "outputs": [],
   "source": []
  }
 ],
 "metadata": {
  "kernelspec": {
   "display_name": "Python 3",
   "language": "python",
   "name": "python3"
  },
  "language_info": {
   "codemirror_mode": {
    "name": "ipython",
    "version": 3
   },
   "file_extension": ".py",
   "mimetype": "text/x-python",
   "name": "python",
   "nbconvert_exporter": "python",
   "pygments_lexer": "ipython3",
   "version": "3.8.3"
  }
 },
 "nbformat": 4,
 "nbformat_minor": 4
}
