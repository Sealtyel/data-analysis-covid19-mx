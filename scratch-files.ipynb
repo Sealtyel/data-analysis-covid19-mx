{
 "cells": [
  {
   "cell_type": "code",
   "execution_count": null,
   "metadata": {},
   "outputs": [],
   "source": [
    "import pandas as pd\n",
    "import plotly.express as px\n",
    "import plotly.graph_objects as go\n",
    "from datetime import date, timedelta\n",
    "\n",
    "import os"
   ]
  },
  {
   "cell_type": "markdown",
   "metadata": {},
   "source": [
    "## Load dataframe from newest file"
   ]
  },
  {
   "cell_type": "code",
   "execution_count": null,
   "metadata": {},
   "outputs": [],
   "source": [
    "for file in os.listdir('newest'):\n",
    "    if \"csv\" in file:\n",
    "        print(\"Loading \"+file+\" ...\")\n",
    "\n",
    "df_mx = pd.read_csv('./newest/'+file, encoding = \"ISO-8859-1\")\n",
    "print(file+\" Loaded\")"
   ]
  },
  {
   "cell_type": "markdown",
   "metadata": {},
   "source": [
    "## Positividad por semana"
   ]
  },
  {
   "cell_type": "code",
   "execution_count": null,
   "metadata": {},
   "outputs": [],
   "source": [
    "df = df_mx\n",
    "\n",
    "df = df.loc[df['ENTIDAD_RES'] == 2] #entidad = Baja California\n",
    "df = df.loc[df['MUNICIPIO_RES'] == 2] # municipio = mexicali\n",
    "\n",
    "df = df.loc[(df['RESULTADO_LAB'] == 1) | (df['RESULTADO_LAB'] == 2)| (df['RESULTADO_LAB'] == 3)]\n",
    "\n",
    "df = df[['FECHA_SINTOMAS','RESULTADO_LAB']]\n",
    "\n",
    "df['FECHA_SINTOMAS'] = pd.to_datetime(df['FECHA_SINTOMAS'])\n",
    "df['SEMANA'] = df['FECHA_SINTOMAS'].dt.week\n",
    "df['AÑO'] = df['FECHA_SINTOMAS'].dt.year\n",
    "\n",
    "df.loc[df['RESULTADO_LAB'] == 1, 'CONFIRMADO'] = ['1']\n",
    "df.loc[df['RESULTADO_LAB'] == 2, 'NEGATIVO'] = ['1']\n",
    "df.loc[df['RESULTADO_LAB'] == 3, 'SOSPECHOSO'] = ['1']\n",
    "\n",
    "df = df.groupby([\"SEMANA\",'AÑO'],as_index=False).count()\n",
    "\n",
    "df['POSITIVIDAD'] = (df['CONFIRMADO']/df['RESULTADO_LAB'])*100\n",
    "df['POSITIVIDAD_MAXIMA'] = ((df['CONFIRMADO']+df['SOSPECHOSO'])/df['RESULTADO_LAB'])*100\n",
    "df['POSITIVIDAD_MINIMA'] = (df['CONFIRMADO']/(df['RESULTADO_LAB']+df['SOSPECHOSO']))*100\n",
    "\n",
    "df = df.loc[df['SOSPECHOSO'] == 0] #remove weeks with cases with pending result\n",
    "# df\n",
    "fig = px.line(df, df.SEMANA, df.POSITIVIDAD,\n",
    "              title='Positividad Mexicali por Semana')\n",
    "fig.show()"
   ]
  },
  {
   "cell_type": "markdown",
   "metadata": {},
   "source": [
    "## Last completed week's positivity"
   ]
  },
  {
   "cell_type": "code",
   "execution_count": null,
   "metadata": {},
   "outputs": [],
   "source": [
    "df[-1:]['POSITIVIDAD']"
   ]
  },
  {
   "cell_type": "markdown",
   "metadata": {},
   "source": [
    "## Imports"
   ]
  },
  {
   "cell_type": "code",
   "execution_count": null,
   "metadata": {},
   "outputs": [],
   "source": [
    "import pandas as pd\n",
    "import plotly.express as px\n",
    "import plotly.graph_objects as go\n",
    "import dash_core_components\n",
    "from datetime import date, timedelta\n",
    "\n",
    "import os"
   ]
  },
  {
   "cell_type": "markdown",
   "metadata": {},
   "source": [
    "## Load dataframe from newest file"
   ]
  },
  {
   "cell_type": "code",
   "execution_count": null,
   "metadata": {},
   "outputs": [],
   "source": [
    "for file in os.listdir('newest'):\n",
    "    if \"csv\" in file:\n",
    "        print(\"Loading \"+file+\" ...\")\n",
    "\n",
    "df_mx = pd.read_csv('./newest/'+file, encoding = \"ISO-8859-1\")\n",
    "print(file+\" Loaded\")"
   ]
  },
  {
   "cell_type": "markdown",
   "metadata": {},
   "source": [
    "## Casos Confirmados Acumulados BC"
   ]
  },
  {
   "cell_type": "code",
   "execution_count": null,
   "metadata": {},
   "outputs": [],
   "source": [
    "df = df_mx\n",
    "\n",
    "df = df.loc[df['ENTIDAD_RES'] == 2] #entidad = Baja California\n",
    "df = df.loc[df['RESULTADO_LAB'] == 1] # resultado = positivo SARS-COV-2\n",
    "\n",
    "df = df.sum()\n",
    "df['RESULTADO_LAB']"
   ]
  },
  {
   "cell_type": "markdown",
   "metadata": {},
   "source": [
    "## Casos Activos BC"
   ]
  },
  {
   "cell_type": "code",
   "execution_count": null,
   "metadata": {},
   "outputs": [],
   "source": [
    "df = df_mx\n",
    "\n",
    "df = df.loc[df['ENTIDAD_RES'] == 2] #entidad = Baja California\n",
    "df = df.loc[df['RESULTADO_LAB'] == 1] # resultado = positivo SARS-COV-2\n",
    "df = df.groupby(\"FECHA_SINTOMAS\",as_index=False).count()\n",
    "df = df.iloc[-11:]\n",
    "# df\n",
    "df = df.sum()\n",
    "df['RESULTADO_LAB']"
   ]
  },
  {
   "cell_type": "markdown",
   "metadata": {},
   "source": [
    "## Casos Activos Mexicali"
   ]
  },
  {
   "cell_type": "code",
   "execution_count": null,
   "metadata": {},
   "outputs": [],
   "source": [
    "df = df_mx\n",
    "\n",
    "df = df = df.loc[df['ENTIDAD_RES'] == 2] #entidad = Baja California\n",
    "\n",
    "df = df.loc[df['MUNICIPIO_RES'] == 2] # municipio = mexicali\n",
    "\n",
    "df = df.loc[(df['RESULTADO_LAB'] == 1)] # resultado = positivo SARS-COV-2 o Pendiente\n",
    "\n",
    "df = df[['FECHA_SINTOMAS','RESULTADO_LAB']]\n",
    "\n",
    "df.loc[df['RESULTADO_LAB'] == 1, 'CONFIRMADO'] = ['1']\n",
    "\n",
    "df_by_date = df.groupby(\"FECHA_SINTOMAS\",as_index=False).count()\n",
    "df_by_date\n",
    "\n",
    "# fig = go.Figure(data=[\n",
    "#     go.Bar(name='Confirmados', x=df_by_date.FECHA_SINTOMAS, y=df_by_date.CONFIRMADO),\n",
    "#     go.Bar(name='Sospechosos', x=df_by_date.FECHA_SINTOMAS, y=df_by_date.SOSPECHOSO)\n",
    "# ])\n",
    "# fig.update_layout(\n",
    "#     title=\"Curva Epidemica para Mexico\",\n",
    "#     legend_title=\"Tipo de Resultado\"\n",
    "# )\n",
    "\n",
    "# fig.update_layout(barmode='stack')\n",
    "# fig.show()"
   ]
  },
  {
   "cell_type": "markdown",
   "metadata": {},
   "source": [
    "## Casos Estimados Mexicali"
   ]
  },
  {
   "cell_type": "code",
   "execution_count": null,
   "metadata": {},
   "outputs": [],
   "source": [
    "df_src = pd.read_csv('./newest/201012COVID19MEXICO.csv', encoding = \"ISO-8859-1\")\n",
    "\n",
    "df = df_src.loc[df_src['ENTIDAD_RES'] == 2] #entidad = Baja California\n",
    "df = df.loc[df['MUNICIPIO_RES'] == 2] # municipio = mexicali\n",
    "df = df.loc[(df['RESULTADO_LAB'] == 1) | (df['RESULTADO_LAB'] == 3)] # resultado = positivo SARS-COV-2 o Pendiente\n",
    "df = df[['FECHA_SINTOMAS','RESULTADO_LAB']]\n",
    "\n",
    "df.loc[df['RESULTADO_LAB'] == 1, 'CONFIRMADO'] = ['1']\n",
    "df.loc[df['RESULTADO_LAB'] == 3, 'SOSPECHOSO'] = ['1']\n",
    "df_by_date = df.groupby(\"FECHA_SINTOMAS\",as_index=False).count()\n",
    "df_by_date[\"SOSPECHOSO\"] = pd.to_numeric(df_by_date[\"SOSPECHOSO\"])\n",
    "df_by_date[\"CONFIRMADO\"] = pd.to_numeric(df_by_date[\"CONFIRMADO\"])\n",
    "# df['SOSPECHOSO'] = df['SOSPECHOSO'].astype(int)\n",
    "\n",
    "df_by_date['ESTIMADO'] = df_by_date['CONFIRMADO'] + (df_by_date['SOSPECHOSO']/2)\n",
    "df_by_date\n",
    "\n",
    "fig = px.line(df_by_date, df_by_date.FECHA_SINTOMAS, df_by_date.ESTIMADO, \n",
    "              title='Estimados Mexicali por fecha inicio de sintomas')\n",
    "fig.show()\n"
   ]
  },
  {
   "cell_type": "markdown",
   "metadata": {},
   "source": [
    "### Confirmados Activos en Mexicali"
   ]
  },
  {
   "cell_type": "code",
   "execution_count": null,
   "metadata": {},
   "outputs": [],
   "source": [
    "fourteen_days_ago = date.today() - timedelta(days=15)\n",
    "fourteen_days_ago = fourteen_days_ago.strftime(\"%Y-%m-%d\");\n",
    "fourteen_days_ago\n",
    "\n",
    "\n",
    "\n",
    "df = df_src.loc[df_src['ENTIDAD_RES'] == 2] #entidad = Baja California\n",
    "df = df.loc[df['MUNICIPIO_RES'] == 2] # municipio = mexicali\n",
    "df = df.loc[df['RESULTADO'] == 1] # resultado = confirmado\n",
    "df_confirmed = df[['FECHA_SINTOMAS','RESULTADO']]\n",
    "df_confirmed_active = df_confirmed.loc[df_confirmed['FECHA_SINTOMAS'] >= fourteen_days_ago]\n",
    "df_confirmed_active_by_date = df_confirmed_active.groupby(\"FECHA_SINTOMAS\",as_index=False).count()\n",
    "df_confirmed_active_by_date = df_confirmed_active_by_date.sum(axis = 0, skipna = True) \n",
    "df_confirmed_active_by_date['RESULTADO']\n",
    "\n",
    "\n",
    "\n",
    "# date_time = now.strftime(\"%m-%d-%Y, %H:%M:%S\")\n",
    "# print(\"date and time:\",date_time)\t\n",
    "\n",
    "# df_suspected_by_date = df_suspected.groupby(\"FECHA_SINTOMAS\",as_index=False).count()\n",
    "\n",
    "# df_suspected_by_date.columns = ['FECHA_SINTOMAS','SOSPECHOSOS']"
   ]
  },
  {
   "cell_type": "markdown",
   "metadata": {},
   "source": [
    "## Dash Testing"
   ]
  },
  {
   "cell_type": "code",
   "execution_count": null,
   "metadata": {},
   "outputs": [],
   "source": [
    "import dash\n",
    "import dash_core_components as dcc\n",
    "import dash_html_components as html\n",
    "import plotly.express as px\n",
    "import pandas as pd\n",
    "\n",
    "external_stylesheets = ['https://codepen.io/chriddyp/pen/bWLwgP.css']\n",
    "\n",
    "app = dash.Dash(__name__, external_stylesheets=external_stylesheets)\n",
    "\n",
    "# assume you have a \"wide-form\" data frame with no index\n",
    "# see https://plotly.com/python/wide-form/ for more options\n",
    "df = pd.DataFrame({\"x\": [1, 2, 3], \"SF\": [4, 1, 2], \"Montreal\": [2, 4, 5]})\n",
    "\n",
    "fig = px.bar(df, x=\"x\", y=[\"SF\", \"Montreal\"], barmode=\"group\")\n",
    "\n",
    "app.layout = html.Div(children=[\n",
    "    html.H1(children='Hello Dash'),\n",
    "\n",
    "    html.Div(children='''\n",
    "        Dash: A web application framework for Python.\n",
    "    '''),\n",
    "\n",
    "    dcc.Graph(\n",
    "        id='example-graph',\n",
    "        figure=fig\n",
    "    )\n",
    "])\n",
    "\n",
    "if __name__ == '__main__':\n",
    "    app.run_server(debug=True)"
   ]
  },
  {
   "cell_type": "markdown",
   "metadata": {},
   "source": [
    "## Read all files an concat them into a big dataframe"
   ]
  },
  {
   "cell_type": "code",
   "execution_count": null,
   "metadata": {},
   "outputs": [],
   "source": [
    "entidad = 2 #Baja California\n",
    "municipio = 2 #Mexicali\n",
    "resultado = 1 #Positivo\n",
    "\n",
    "files = os.listdir('data/')\n",
    "csv_files = [ filename for filename in files if filename.endswith( '.csv' ) ]\n",
    "csv_files.sort()\n",
    "\n",
    "df_master = pd.concat([pd.read_csv('data/'+f, encoding = 'ISO-8859-1') for f in csv_files ])\n",
    "df_master.to_csv('data/200629-200726COVID19MEXICO.csv', index=False, encoding='ISO-8859-1')\n"
   ]
  },
  {
   "cell_type": "markdown",
   "metadata": {},
   "source": [
    "## Day by Day Delta"
   ]
  },
  {
   "cell_type": "code",
   "execution_count": null,
   "metadata": {},
   "outputs": [],
   "source": [
    "entidad = 2 #Baja California\n",
    "municipio = 2 #Mexicali\n",
    "resultado = 1 #Positivo\n",
    "\n",
    "df_master = pd.read_csv('./data/200629-200726COVID19MEXICO.csv', encoding = \"ISO-8859-1\")\n",
    "df_master = df_master.loc[df_master['ENTIDAD_RES'] == 2] #entidad = Baja California\n",
    "df_master = df_master.loc[df_master['MUNICIPIO_RES'] == 2] # municipio = mexicali\n",
    "# df_master = df_master.loc[df_master['RESULTADO'] == 1] # resultado = positivo SARS-COV-2\n",
    "\n",
    "df_master.loc[df_master['RESULTADO'] == 1, 'CONFIRMADO'] = ['1']\n",
    "df_master.loc[df_master['RESULTADO'] == 3, 'SOSPECHOSO'] = ['1']\n",
    "df_master.loc[df_master['RESULTADO'] == 2, 'NEGATIVO'] = ['1']\n",
    "df_master = df_master[['FECHA_ACTUALIZACION', 'CONFIRMADO', 'SOSPECHOSO', 'NEGATIVO']]\n",
    "\n",
    "df_master_by_date = df_master.groupby(\"FECHA_ACTUALIZACION\",as_index=False).count()\n",
    "df_master_by_date\n",
    "df_master_by_date.to_csv('summaries/200629-200726COVID19MEXICO.csv', index=False, encoding='ISO-8859-1')\n"
   ]
  },
  {
   "cell_type": "code",
   "execution_count": null,
   "metadata": {},
   "outputs": [],
   "source": []
  }
 ],
 "metadata": {
  "kernelspec": {
   "display_name": "Python 3",
   "language": "python",
   "name": "python3"
  },
  "language_info": {
   "codemirror_mode": {
    "name": "ipython",
    "version": 3
   },
   "file_extension": ".py",
   "mimetype": "text/x-python",
   "name": "python",
   "nbconvert_exporter": "python",
   "pygments_lexer": "ipython3",
   "version": "3.8.3"
  }
 },
 "nbformat": 4,
 "nbformat_minor": 4
}
