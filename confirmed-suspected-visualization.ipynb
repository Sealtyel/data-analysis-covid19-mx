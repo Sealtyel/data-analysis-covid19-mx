{
 "cells": [
  {
   "cell_type": "code",
   "execution_count": null,
   "metadata": {},
   "outputs": [],
   "source": [
    "#install libraries\n",
    "# !pip install dash==1.13.3"
   ]
  },
  {
   "cell_type": "markdown",
   "metadata": {},
   "source": [
    "# Imports"
   ]
  },
  {
   "cell_type": "code",
   "execution_count": null,
   "metadata": {},
   "outputs": [],
   "source": [
    "import pandas as pd\n",
    "import plotly.express as px\n",
    "import plotly.graph_objects as go\n",
    "import dash_core_components\n",
    "from datetime import date, timedelta\n",
    "\n",
    "import os"
   ]
  },
  {
   "cell_type": "markdown",
   "metadata": {},
   "source": [
    "# Load dataframe from newest file"
   ]
  },
  {
   "cell_type": "code",
   "execution_count": null,
   "metadata": {},
   "outputs": [],
   "source": [
    "for file in os.listdir('newest'):\n",
    "    if \"csv\" in file:\n",
    "        print(\"Loading \"+file+\" ...\")\n",
    "\n",
    "df_mx = pd.read_csv('./newest/'+file, encoding = \"ISO-8859-1\")\n",
    "print(file+\" Loaded\")"
   ]
  },
  {
   "cell_type": "markdown",
   "metadata": {},
   "source": [
    "## Confirmados + Sospechosos por fecha de Inicio de Sintomas en Mexico"
   ]
  },
  {
   "cell_type": "code",
   "execution_count": null,
   "metadata": {},
   "outputs": [],
   "source": [
    "df = df_mx\n",
    "\n",
    "df = df.loc[(df['RESULTADO_LAB'] == 1) | (df['RESULTADO_LAB'] == 3)] # resultado = positivo SARS-COV-2 o Pendiente\n",
    "\n",
    "df = df[['FECHA_SINTOMAS','RESULTADO_LAB']]\n",
    "\n",
    "df.loc[df['RESULTADO_LAB'] == 1, 'CONFIRMADO'] = ['1']\n",
    "df.loc[df['RESULTADO_LAB'] == 3, 'SOSPECHOSO'] = ['1']\n",
    "df_by_date = df.groupby(\"FECHA_SINTOMAS\",as_index=False).count()\n",
    "df_by_date\n",
    "\n",
    "fig = go.Figure(data=[\n",
    "    go.Bar(name='Confirmados', x=df_by_date.FECHA_SINTOMAS, y=df_by_date.CONFIRMADO),\n",
    "    go.Bar(name='Sospechosos', x=df_by_date.FECHA_SINTOMAS, y=df_by_date.SOSPECHOSO)\n",
    "])\n",
    "fig.update_layout(\n",
    "    title=\"Curva Epidemica para Mexico\",\n",
    "    legend_title=\"Tipo de Resultado\"\n",
    ")\n",
    "\n",
    "fig.update_layout(barmode='stack')\n",
    "fig.show()"
   ]
  },
  {
   "cell_type": "markdown",
   "metadata": {},
   "source": [
    "## Confirmados + Sospechosos por fecha de Inicio de Sintomas en Baja California"
   ]
  },
  {
   "cell_type": "code",
   "execution_count": null,
   "metadata": {},
   "outputs": [],
   "source": [
    "df = df_mx\n",
    "\n",
    "df = df = df.loc[df['ENTIDAD_RES'] == 2] #entidad = Baja California\n",
    "\n",
    "df = df.loc[(df['RESULTADO_LAB'] == 1) | (df['RESULTADO_LAB'] == 3)] # resultado = positivo SARS-COV-2 o Pendiente\n",
    "\n",
    "df = df[['FECHA_SINTOMAS','RESULTADO_LAB']]\n",
    "\n",
    "df.loc[df['RESULTADO_LAB'] == 1, 'CONFIRMADO'] = ['1']\n",
    "df.loc[df['RESULTADO_LAB'] == 3, 'SOSPECHOSO'] = ['1']\n",
    "df_by_date = df.groupby(\"FECHA_SINTOMAS\",as_index=False).count()\n",
    "df_by_date\n",
    "\n",
    "fig = go.Figure(data=[\n",
    "    go.Bar(name='Confirmados', x=df_by_date.FECHA_SINTOMAS, y=df_by_date.CONFIRMADO),\n",
    "    go.Bar(name='Sospechosos', x=df_by_date.FECHA_SINTOMAS, y=df_by_date.SOSPECHOSO)\n",
    "])\n",
    "fig.update_layout(\n",
    "    title=\"Curva Epidemica para Baja California\",\n",
    "    legend_title=\"Tipo de Resultado\"\n",
    ")\n",
    "\n",
    "fig.update_layout(barmode='stack')\n",
    "fig.show()"
   ]
  },
  {
   "cell_type": "markdown",
   "metadata": {},
   "source": [
    "## Confirmados + Sospechosos por fecha de Inicio de Sintomas en Mexicali"
   ]
  },
  {
   "cell_type": "code",
   "execution_count": null,
   "metadata": {},
   "outputs": [],
   "source": [
    "df = df_mx\n",
    "\n",
    "df = df = df.loc[df['ENTIDAD_RES'] == 2] #entidad = Baja California\n",
    "\n",
    "df = df.loc[df['MUNICIPIO_RES'] == 2] # municipio = mexicali\n",
    "\n",
    "df = df.loc[(df['RESULTADO_LAB'] == 1) | (df['RESULTADO_LAB'] == 3)] # resultado = positivo SARS-COV-2 o Pendiente\n",
    "\n",
    "df = df[['FECHA_SINTOMAS','RESULTADO_LAB']]\n",
    "\n",
    "df.loc[df['RESULTADO_LAB'] == 1, 'CONFIRMADO'] = ['1']\n",
    "df.loc[df['RESULTADO_LAB'] == 3, 'SOSPECHOSO'] = ['1']\n",
    "df_by_date = df.groupby(\"FECHA_SINTOMAS\",as_index=False).count()\n",
    "df_by_date\n",
    "\n",
    "fig = go.Figure(data=[\n",
    "    go.Bar(name='Confirmados', x=df_by_date.FECHA_SINTOMAS, y=df_by_date.CONFIRMADO),\n",
    "    go.Bar(name='Sospechosos', x=df_by_date.FECHA_SINTOMAS, y=df_by_date.SOSPECHOSO)\n",
    "])\n",
    "fig.update_layout(\n",
    "    title=\"Curva Epidemica para Mexicali\",\n",
    "    legend_title=\"Tipo de Resultado\"\n",
    ")\n",
    "\n",
    "fig.update_layout(barmode='stack')\n",
    "fig.show()"
   ]
  },
  {
   "cell_type": "code",
   "execution_count": null,
   "metadata": {},
   "outputs": [],
   "source": []
  }
 ],
 "metadata": {
  "kernelspec": {
   "display_name": "Python 3",
   "language": "python",
   "name": "python3"
  },
  "language_info": {
   "codemirror_mode": {
    "name": "ipython",
    "version": 3
   },
   "file_extension": ".py",
   "mimetype": "text/x-python",
   "name": "python",
   "nbconvert_exporter": "python",
   "pygments_lexer": "ipython3",
   "version": "3.8.3"
  }
 },
 "nbformat": 4,
 "nbformat_minor": 4
}
