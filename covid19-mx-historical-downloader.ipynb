{
 "cells": [
  {
   "cell_type": "code",
   "execution_count": 1,
   "metadata": {},
   "outputs": [],
   "source": [
    "#!pip install beautifulsoup4"
   ]
  },
  {
   "cell_type": "code",
   "execution_count": 2,
   "metadata": {},
   "outputs": [],
   "source": [
    "import requests\n",
    "import threading\n",
    "from bs4 import BeautifulSoup\n",
    "import os\n",
    "import shutil\n",
    "import zipfile"
   ]
  },
  {
   "cell_type": "markdown",
   "metadata": {},
   "source": [
    "# Download Files from Historical Data"
   ]
  },
  {
   "cell_type": "markdown",
   "metadata": {},
   "source": [
    "When you run the code below it only downloads new files and saves them under data/"
   ]
  },
  {
   "cell_type": "code",
   "execution_count": 3,
   "metadata": {},
   "outputs": [
    {
     "name": "stdout",
     "output_type": "stream",
     "text": [
      "downloading datos_abiertos_covid19_11.10.2020.zip\n"
     ]
    }
   ],
   "source": [
    "URL = 'https://www.gob.mx/salud/documentos/datos-abiertos-bases-historicas-direccion-general-de-epidemiologia'\n",
    "\n",
    "page = requests.get(URL).text # get the raw HTML of the page\n",
    "soup = BeautifulSoup(page) # make our page easy to navigate\n",
    "\n",
    "download_urls = []\n",
    "downloaded_files = []\n",
    "for a in soup.find_all('a',text='Ver'):\n",
    "    download_urls.append(a['href'])\n",
    "\n",
    "if not os.path.exists('zip files'):\n",
    "    os.makedirs('zip files')\n",
    "\n",
    "downloaded_files = os.listdir('zip files')\n",
    "download_urls\n",
    "    \n",
    "for file in download_urls: # for each index and file in download_urls\n",
    "    fileName = file.split('/')[-1] # the text after the last / is the file name we want\n",
    "    if fileName not in downloaded_files:\n",
    "        print(\"downloading \"+fileName)\n",
    "        fileRequest = requests.get(file) # download the file\n",
    "        with open('zip files/'+fileName, 'wb') as examFile: # open a new file in write and binary mode\n",
    "            examFile.write(fileRequest.content) # write the content of the downloaded file\n",
    "\n"
   ]
  },
  {
   "cell_type": "markdown",
   "metadata": {},
   "source": [
    "# Download Newest File"
   ]
  },
  {
   "cell_type": "markdown",
   "metadata": {},
   "source": [
    "When you run the code below it only downloads the newest file"
   ]
  },
  {
   "cell_type": "code",
   "execution_count": 4,
   "metadata": {},
   "outputs": [
    {
     "name": "stdout",
     "output_type": "stream",
     "text": [
      "downloading datos_abiertos_covid19.zip\n"
     ]
    }
   ],
   "source": [
    "URL = 'https://www.gob.mx/salud/documentos/datos-abiertos-152127'\n",
    "\n",
    "page = requests.get(URL).text # get the raw HTML of the page\n",
    "soup = BeautifulSoup(page) # make our page easy to navigate\n",
    "\n",
    "download_urls = []\n",
    "downloaded_files = []\n",
    "for a in soup.find_all('a',text='VER'):\n",
    "    if \"datos_abiertos_covid\" in a['href']:\n",
    "        fileName = a['href'].split('/')[-1]\n",
    "        print(\"downloading \"+fileName)\n",
    "        fileRequest = requests.get(a['href']) # download the file\n",
    "        with open('zip files/'+fileName, 'wb') as examFile: # open a new file in write and binary mode\n",
    "            examFile.write(fileRequest.content) # write the content of the downloaded file\n"
   ]
  },
  {
   "cell_type": "markdown",
   "metadata": {},
   "source": [
    "# Extract Newest File and Saves it in Newest Directory"
   ]
  },
  {
   "cell_type": "code",
   "execution_count": 5,
   "metadata": {},
   "outputs": [
    {
     "name": "stdout",
     "output_type": "stream",
     "text": [
      "datos_abiertos_covid19.zip\n",
      "201011COVID19MEXICO.csv\n"
     ]
    }
   ],
   "source": [
    "if not os.path.exists('newest'):\n",
    "    os.makedirs('newest')\n",
    "    \n",
    "for file in os.listdir('newest'):\n",
    "    os.remove('newest/'+file)\n",
    "    \n",
    "for file in os.listdir('zip files'): #copy zip file to newest\n",
    "    fileName = file.split('/')[-1]\n",
    "    if fileName == \"datos_abiertos_covid19.zip\":\n",
    "        shutil.copy('zip files/'+fileName, \"./newest/\"+fileName)\n",
    "\n",
    "for file in os.listdir('newest'):\n",
    "    with zipfile.ZipFile('newest/'+file, 'r') as zip_ref:\n",
    "        zip_ref.extractall('newest/')\n",
    "\n"
   ]
  },
  {
   "cell_type": "code",
   "execution_count": null,
   "metadata": {},
   "outputs": [],
   "source": []
  }
 ],
 "metadata": {
  "kernelspec": {
   "display_name": "Python 3",
   "language": "python",
   "name": "python3"
  },
  "language_info": {
   "codemirror_mode": {
    "name": "ipython",
    "version": 3
   },
   "file_extension": ".py",
   "mimetype": "text/x-python",
   "name": "python",
   "nbconvert_exporter": "python",
   "pygments_lexer": "ipython3",
   "version": "3.8.3"
  }
 },
 "nbformat": 4,
 "nbformat_minor": 4
}
