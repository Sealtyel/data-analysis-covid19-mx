{
 "cells": [
  {
   "cell_type": "markdown",
   "metadata": {},
   "source": [
    "## Imports"
   ]
  },
  {
   "cell_type": "code",
   "execution_count": null,
   "metadata": {},
   "outputs": [],
   "source": [
    "import pandas as pd\n",
    "import plotly.express as px\n",
    "import plotly.graph_objects as go\n",
    "import dash_core_components\n",
    "from datetime import date, timedelta, datetime\n",
    "\n",
    "import os"
   ]
  },
  {
   "cell_type": "markdown",
   "metadata": {},
   "source": [
    "## Load dataframe from newest file"
   ]
  },
  {
   "cell_type": "code",
   "execution_count": null,
   "metadata": {},
   "outputs": [],
   "source": [
    "for file in os.listdir('newest'):\n",
    "    if \"csv\" in file:\n",
    "        print(\"Loading \"+file+\" ...\")\n",
    "\n",
    "df_mx = pd.read_csv('./newest/'+file, encoding = \"ISO-8859-1\")\n",
    "print(file+\" Loaded\")"
   ]
  },
  {
   "cell_type": "markdown",
   "metadata": {},
   "source": [
    "## Active Cases of Mexico"
   ]
  },
  {
   "cell_type": "code",
   "execution_count": null,
   "metadata": {},
   "outputs": [],
   "source": [
    "df = df_mx\n",
    "\n",
    "df = df.loc[(df['RESULTADO_LAB'] == 1)] # resultado = positivo SARS-COV-2 o Pendiente\n",
    "\n",
    "# df = df = df.loc[df['ENTIDAD_RES'] == 2] #entidad = Baja California\n",
    "\n",
    "# df = df.loc[df['MUNICIPIO_RES'] == 2] # municipio = mexicali\n",
    "\n",
    "df = df[['FECHA_SINTOMAS','RESULTADO_LAB']]\n",
    "\n",
    "df.loc[df['RESULTADO_LAB'] == 1, 'CONFIRMADO'] = ['1']\n",
    "\n",
    "df_by_date = df.groupby(\"FECHA_SINTOMAS\",as_index=False).count()\n",
    "df_by_date['FECHA_SINTOMAS'] = pd.to_datetime(df_by_date['FECHA_SINTOMAS'])\n",
    "\n",
    "first_case_date = df_by_date['FECHA_SINTOMAS'].iloc[0]\n",
    "\n",
    "last_case_date = df_by_date['FECHA_SINTOMAS'].iloc[-1]\n",
    "\n",
    "delta = (last_case_date) - first_case_date       # as timedelta\n",
    "\n",
    "active_df = pd.DataFrame()\n",
    "\n",
    "for i in range(delta.days + 1):\n",
    "    day = first_case_date + timedelta(days=i)\n",
    "\n",
    "    df_by_date['FECHA'] = day\n",
    "    \n",
    "    active_date_minus_14_days = day - timedelta(days=11)\n",
    "    mask = (df_by_date['FECHA_SINTOMAS'] >= active_date_minus_14_days) & (df_by_date['FECHA_SINTOMAS'] <= day)\n",
    "    filtered_df=df_by_date.loc[mask]\n",
    "    \n",
    "    filtered_df = filtered_df.groupby([\"FECHA\"],as_index=False).sum()\n",
    "    active_df = active_df.append(filtered_df)\n",
    "\n",
    "    \n",
    "fig = px.line(active_df, active_df.FECHA, active_df.CONFIRMADO,\n",
    "              title='Activos Mexico por Estado')\n",
    "fig.show()"
   ]
  },
  {
   "cell_type": "markdown",
   "metadata": {},
   "source": [
    "## Actives Cases by State"
   ]
  },
  {
   "cell_type": "code",
   "execution_count": null,
   "metadata": {
    "scrolled": true
   },
   "outputs": [],
   "source": [
    "df = df_mx\n",
    "\n",
    "di = {1:\"Aguascalientes\", 2: \"Baja California\", 3:\"Baja California Sur\",  4: \"Campeche\", 5: \"Coahuila\", 6: \"Colima\",\n",
    "     7: \"Chiapas\", 8: \"Chihuahua\", 9: \"CDMX\", 10: \"Durango\", 11: \"Guanajuato\", 12: \"Guerrero\", 13: \"Hidalgo\",\n",
    "     14: \"Jalisco\", 15: \"Mexico\", 16: \"Michoacan\", 17: \"Morelos\", 18: \"Nayarit\", 19: \"Nuevo Leon\", 20: \"Oaxaca\",\n",
    "     21: \"Puebla\", 22: \"Queretaro\", 23: \"Quintana Roo\", 24: \"San Luis Potosi\", 25: \"Sinaloa\", 26: \"Sonora\",\n",
    "     27: \"Tabasco\", 28: \"Tamaulipas\", 29: \"Tlaxcala\", 30: \"Veracruz\", 31: \"Yucatan\", 32: \"Zacatecas\"}\n",
    "\n",
    "df = df.loc[(df['RESULTADO_LAB'] == 1)] # resultado = positivo SARS-COV-2 o Pendiente\n",
    "\n",
    "df = df.replace({\"ENTIDAD_RES\": di})\n",
    "\n",
    "df = df[['FECHA_SINTOMAS','RESULTADO_LAB','ENTIDAD_RES']]\n",
    "\n",
    "df.loc[df['RESULTADO_LAB'] == 1, 'CONFIRMADO'] = ['1']\n",
    "\n",
    "df_by_date = df.groupby([\"FECHA_SINTOMAS\",\"ENTIDAD_RES\"],as_index=False).count()\n",
    "df_by_date['FECHA_SINTOMAS'] = pd.to_datetime(df_by_date['FECHA_SINTOMAS'])\n",
    "\n",
    "first_case_date = df_by_date['FECHA_SINTOMAS'].iloc[0]\n",
    "\n",
    "last_case_date = df_by_date['FECHA_SINTOMAS'].iloc[-1]\n",
    "\n",
    "delta = (last_case_date) - first_case_date       # as timedelta\n",
    "\n",
    "active_df = pd.DataFrame()\n",
    "\n",
    "for i in range(delta.days + 1):\n",
    "    day = first_case_date + timedelta(days=i)\n",
    "\n",
    "    df_by_date['FECHA'] = day\n",
    "    \n",
    "    active_date_minus_14_days = day - timedelta(days=11)\n",
    "    mask = (df_by_date['FECHA_SINTOMAS'] >= active_date_minus_14_days) & (df_by_date['FECHA_SINTOMAS'] <= day)\n",
    "    filtered_df=df_by_date.loc[mask]\n",
    "    \n",
    "    filtered_df = filtered_df.groupby([\"FECHA\",\"ENTIDAD_RES\"],as_index=False).sum()\n",
    "    active_df = active_df.append(filtered_df)\n",
    "\n",
    "fig = px.line(active_df, active_df.FECHA, active_df.CONFIRMADO, line_group= \"ENTIDAD_RES\",\n",
    "              color=\"ENTIDAD_RES\",\n",
    "              title='Activos Mexico por Estado')\n",
    "fig.show()"
   ]
  },
  {
   "cell_type": "markdown",
   "metadata": {},
   "source": [
    "## Active Cases of Baja California"
   ]
  },
  {
   "cell_type": "code",
   "execution_count": null,
   "metadata": {},
   "outputs": [],
   "source": [
    "df = df_mx\n",
    "\n",
    "di = {1:\"Ensenada\", 2: \"Mexicali\", 3:\"Tecate\",  4: \"Tijuana\", 5: \"Rosarito\"}\n",
    "\n",
    "df = df.loc[(df['RESULTADO_LAB'] == 1)] # resultado = positivo SARS-COV-2 o Pendiente\n",
    "\n",
    "df = df = df.loc[df['ENTIDAD_RES'] == 2] #entidad = Baja California\n",
    "\n",
    "df = df.replace({\"MUNICIPIO_RES\": di})\n",
    "\n",
    "df = df[['FECHA_SINTOMAS','RESULTADO_LAB','MUNICIPIO_RES']]\n",
    "\n",
    "df.loc[df['RESULTADO_LAB'] == 1, 'CONFIRMADO'] = ['1']\n",
    "\n",
    "df_by_date = df.groupby([\"FECHA_SINTOMAS\",\"MUNICIPIO_RES\"],as_index=False).count()\n",
    "df_by_date['FECHA_SINTOMAS'] = pd.to_datetime(df_by_date['FECHA_SINTOMAS'])\n",
    "\n",
    "first_case_date = df_by_date['FECHA_SINTOMAS'].iloc[0]\n",
    "\n",
    "last_case_date = df_by_date['FECHA_SINTOMAS'].iloc[-1]\n",
    "\n",
    "delta = (last_case_date) - first_case_date       # as timedelta\n",
    "\n",
    "active_df = pd.DataFrame()\n",
    "\n",
    "for i in range(delta.days + 1):\n",
    "    day = first_case_date + timedelta(days=i)\n",
    "\n",
    "    df_by_date['FECHA'] = day\n",
    "    \n",
    "    active_date_minus_14_days = day - timedelta(days=11)\n",
    "    mask = (df_by_date['FECHA_SINTOMAS'] >= active_date_minus_14_days) & (df_by_date['FECHA_SINTOMAS'] <= day)\n",
    "    filtered_df=df_by_date.loc[mask]\n",
    "    \n",
    "    filtered_df = filtered_df.groupby([\"FECHA\",\"MUNICIPIO_RES\"],as_index=False).sum()\n",
    "    active_df = active_df.append(filtered_df)\n",
    "\n",
    "fig = px.line(active_df, active_df.FECHA, active_df.CONFIRMADO, line_group= \"MUNICIPIO_RES\",\n",
    "              color=\"MUNICIPIO_RES\",\n",
    "              title='Activos Baja California por Municipio')\n",
    "fig.show()"
   ]
  },
  {
   "cell_type": "markdown",
   "metadata": {},
   "source": [
    "## Active Cases of Baja California considering population by County "
   ]
  },
  {
   "cell_type": "code",
   "execution_count": null,
   "metadata": {},
   "outputs": [],
   "source": [
    "df = df_mx\n",
    "\n",
    "di = {1:\"Ensenada\", 2: \"Mexicali\", 3:\"Tecate\",  4: \"Tijuana\", 5: \"Rosarito\"}\n",
    "\n",
    "population = {1: 486639, 2: 988417, 3: 102406, 4: 1641570, 5: 96734}\n",
    "\n",
    "\n",
    "df = df.loc[(df['RESULTADO_LAB'] == 1)] # resultado = positivo SARS-COV-2 o Pendiente\n",
    "\n",
    "df = df.loc[df['ENTIDAD_RES'] == 2] #entidad = Baja California\n",
    "\n",
    "df = df[['FECHA_SINTOMAS','RESULTADO_LAB','MUNICIPIO_RES']]\n",
    "\n",
    "df.loc[df['RESULTADO_LAB'] == 1, 'CONFIRMADO'] = ['1']\n",
    "\n",
    "df_by_date = df.groupby([\"FECHA_SINTOMAS\",\"MUNICIPIO_RES\"],as_index=False).count()\n",
    "df_by_date['FECHA_SINTOMAS'] = pd.to_datetime(df_by_date['FECHA_SINTOMAS'])\n",
    "\n",
    "first_case_date = df_by_date['FECHA_SINTOMAS'].iloc[0]\n",
    "\n",
    "last_case_date = df_by_date['FECHA_SINTOMAS'].iloc[-1]\n",
    "\n",
    "delta = (last_case_date) - first_case_date       # as timedelta\n",
    "\n",
    "active_df = pd.DataFrame()\n",
    "\n",
    "for i in range(delta.days + 1):\n",
    "    day = first_case_date + timedelta(days=i)\n",
    "\n",
    "    df_by_date['FECHA'] = day\n",
    "    \n",
    "    active_date_minus_14_days = day - timedelta(days=11)\n",
    "    mask = (df_by_date['FECHA_SINTOMAS'] >= active_date_minus_14_days) & (df_by_date['FECHA_SINTOMAS'] <= day)\n",
    "    filtered_df=df_by_date.loc[mask]\n",
    "    \n",
    "    filtered_df = filtered_df.groupby([\"FECHA\",\"MUNICIPIO_RES\"],as_index=False).sum()\n",
    "    active_df = active_df.append(filtered_df)\n",
    "\n",
    "active_df['POPULATION'] = active_df['MUNICIPIO_RES'].map(population)\n",
    "active_df['CONFIRMADO'] = (active_df['CONFIRMADO']/active_df['POPULATION'])*10000\n",
    "    \n",
    "active_df = active_df.replace({\"MUNICIPIO_RES\": di})\n",
    "fig = px.line(active_df, active_df.FECHA, active_df.CONFIRMADO, line_group= \"MUNICIPIO_RES\",\n",
    "              color=\"MUNICIPIO_RES\",\n",
    "              title='Activos Baja California por Municipio por cada 10,000 habitantes')\n",
    "fig.show()"
   ]
  },
  {
   "cell_type": "markdown",
   "metadata": {},
   "source": [
    "## Active Cases of Mexicali"
   ]
  },
  {
   "cell_type": "code",
   "execution_count": null,
   "metadata": {},
   "outputs": [],
   "source": [
    "df = df_mx\n",
    "\n",
    "df = df.loc[(df['RESULTADO_LAB'] == 1)] # resultado = positivo SARS-COV-2 o Pendiente\n",
    "\n",
    "df = df = df.loc[df['ENTIDAD_RES'] == 2] #entidad = Baja California\n",
    "\n",
    "df = df.loc[df['MUNICIPIO_RES'] == 2] # municipio = mexicali\n",
    "\n",
    "df = df[['FECHA_SINTOMAS','RESULTADO_LAB']]\n",
    "\n",
    "df.loc[df['RESULTADO_LAB'] == 1, 'CONFIRMADO'] = ['1']\n",
    "\n",
    "df_by_date = df.groupby(\"FECHA_SINTOMAS\",as_index=False).count()\n",
    "df_by_date['FECHA_SINTOMAS'] = pd.to_datetime(df_by_date['FECHA_SINTOMAS'])\n",
    "\n",
    "first_case_date = df_by_date['FECHA_SINTOMAS'].iloc[0]\n",
    "\n",
    "last_case_date = df_by_date['FECHA_SINTOMAS'].iloc[-1]\n",
    "\n",
    "delta = (last_case_date) - first_case_date       # as timedelta\n",
    "\n",
    "active_df = pd.DataFrame()\n",
    "\n",
    "for i in range(delta.days + 1):\n",
    "    day = first_case_date + timedelta(days=i)\n",
    "\n",
    "    df_by_date['FECHA'] = day\n",
    "    \n",
    "    active_date_minus_14_days = day - timedelta(days=11)\n",
    "    mask = (df_by_date['FECHA_SINTOMAS'] >= active_date_minus_14_days) & (df_by_date['FECHA_SINTOMAS'] <= day)\n",
    "    filtered_df=df_by_date.loc[mask]\n",
    "    \n",
    "    filtered_df = filtered_df.groupby([\"FECHA\"],as_index=False).sum()\n",
    "    active_df = active_df.append(filtered_df)\n",
    "\n",
    "fig = px.line(active_df, active_df.FECHA, active_df.CONFIRMADO,\n",
    "              title='Activos Mexicali')\n",
    "fig.show()"
   ]
  },
  {
   "cell_type": "code",
   "execution_count": null,
   "metadata": {},
   "outputs": [],
   "source": []
  }
 ],
 "metadata": {
  "kernelspec": {
   "display_name": "Python 3",
   "language": "python",
   "name": "python3"
  },
  "language_info": {
   "codemirror_mode": {
    "name": "ipython",
    "version": 3
   },
   "file_extension": ".py",
   "mimetype": "text/x-python",
   "name": "python",
   "nbconvert_exporter": "python",
   "pygments_lexer": "ipython3",
   "version": "3.8.3"
  }
 },
 "nbformat": 4,
 "nbformat_minor": 4
}
